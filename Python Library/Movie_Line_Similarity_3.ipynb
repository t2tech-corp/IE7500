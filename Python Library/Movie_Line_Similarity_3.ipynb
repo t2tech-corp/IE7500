{
 "cells": [
  {
   "cell_type": "code",
   "execution_count": 1,
   "id": "26adaa6d-d5d7-4bc2-886a-55bd0943a7c8",
   "metadata": {},
   "outputs": [
    {
     "name": "stdout",
     "output_type": "stream",
     "text": [
      "WARNING:tensorflow:From C:\\Users\\tterr\\anaconda3\\Lib\\site-packages\\tf_keras\\src\\losses.py:2976: The name tf.losses.sparse_softmax_cross_entropy is deprecated. Please use tf.compat.v1.losses.sparse_softmax_cross_entropy instead.\n",
      "\n"
     ]
    }
   ],
   "source": [
    "import pandas as pd\n",
    "import numpy as np\n",
    "from sentence_transformers import SentenceTransformer\n",
    "import faiss"
   ]
  },
  {
   "cell_type": "code",
   "execution_count": 3,
   "id": "27ed9662-c8f0-497b-ba9f-077ebc997644",
   "metadata": {},
   "outputs": [
    {
     "name": "stdout",
     "output_type": "stream",
     "text": [
      "  line_id characterID movieID characterName         text\n",
      "0   L1044          u2      m0       CAMERON  They do to!\n",
      "1    L985          u0      m0        BIANCA   I hope so.\n",
      "2    L984          u2      m0       CAMERON    She okay?\n",
      "3    L925          u0      m0        BIANCA    Let's go.\n",
      "4    L924          u2      m0       CAMERON          Wow\n"
     ]
    }
   ],
   "source": [
    "# Define column names\n",
    "column_names = ['line_id', 'characterID', 'movieID', 'characterName', 'text']\n",
    "\n",
    "# Read the file with the provided column names\n",
    "movie_lines = pd.read_csv('data/movie_lines.tsv', sep='\\t', encoding='utf-8', header=0, quoting= 3, names=column_names, on_bad_lines='skip')\n",
    "\n",
    "print(movie_lines.head())"
   ]
  },
  {
   "cell_type": "code",
   "execution_count": 5,
   "id": "5a51f272-7964-4f74-9dd2-bfad53f7c55e",
   "metadata": {},
   "outputs": [
    {
     "name": "stdout",
     "output_type": "stream",
     "text": [
      "Total number of movie lines: 304285\n"
     ]
    }
   ],
   "source": [
    "# Filter out null lineText values and convert to string\n",
    "movie_lines = movie_lines[pd.notna(movie_lines['text'])]\n",
    "lines = movie_lines['text'].astype(str).tolist()\n",
    "movie_ids = movie_lines['movieID'].tolist()\n",
    "\n",
    "print(\"Total number of movie lines:\", len(lines))"
   ]
  },
  {
   "cell_type": "code",
   "execution_count": 7,
   "id": "24ec6a98-3e56-49c7-9eaa-b43a80e91fc8",
   "metadata": {},
   "outputs": [
    {
     "name": "stdout",
     "output_type": "stream",
     "text": [
      "  movieID                  movieTitle movieYear  IMDBRating  IMBDVotes  \\\n",
      "0      m1  1492: conquest of paradise      1992         6.2      10421   \n",
      "1      m2                  15 minutes      2001         6.1      25854   \n",
      "2      m3       2001: a space odyssey      1968         8.4     163227   \n",
      "3      m4                     48 hrs.      1982         6.9      22289   \n",
      "4      m5           the fifth element      1997         7.5     133756   \n",
      "\n",
      "                                              genres  \n",
      "0        ['adventure' 'biography' 'drama' 'history']  \n",
      "1              ['action' 'crime' 'drama' 'thriller']  \n",
      "2                   ['adventure' 'mystery' 'sci-fi']  \n",
      "3     ['action' 'comedy' 'crime' 'drama' 'thriller']  \n",
      "4  ['action' 'adventure' 'romance' 'sci-fi' 'thri...  \n"
     ]
    }
   ],
   "source": [
    "# Define column names for movie_titles_metadata\n",
    "column_names_titles = ['movieID', 'movieTitle', 'movieYear', 'IMDBRating', 'IMBDVotes', 'genres']\n",
    "\n",
    "# Read the file with the provided column names\n",
    "movie_titles = pd.read_csv('data/movie_titles_metadata.tsv', sep='\\t', encoding='utf-8', header=0, quoting=3, names=column_names_titles, on_bad_lines='skip')\n",
    "\n",
    "# Print the first few rows to verify\n",
    "print(movie_titles.head())"
   ]
  },
  {
   "cell_type": "code",
   "execution_count": 9,
   "id": "2b45e280-f4fd-447c-bfdd-ad608352e5cb",
   "metadata": {},
   "outputs": [],
   "source": [
    "# Create a lookup dictionary mapping movieID to movieTitle\n",
    "title_lookup = dict(zip(movie_titles['movieID'].astype(str), movie_titles['movieTitle']))\n",
    "\n",
    "# Ensure that our movie_ids are strings for lookup\n",
    "movie_ids = [str(mid) for mid in movie_ids]"
   ]
  },
  {
   "cell_type": "code",
   "execution_count": 11,
   "id": "0a6e73f3-43b8-4cb4-b1be-31091fbbcd0f",
   "metadata": {},
   "outputs": [
    {
     "name": "stdout",
     "output_type": "stream",
     "text": [
      "Computing embeddings...\n"
     ]
    },
    {
     "data": {
      "application/vnd.jupyter.widget-view+json": {
       "model_id": "9a121f4871c4456497e020bd6df3d332",
       "version_major": 2,
       "version_minor": 0
      },
      "text/plain": [
       "Batches:   0%|          | 0/9509 [00:00<?, ?it/s]"
      ]
     },
     "metadata": {},
     "output_type": "display_data"
    }
   ],
   "source": [
    "# ----- Compute Embeddings and Build FAISS Index -----\n",
    "model = SentenceTransformer('all-mpnet-base-v2')\n",
    "print(\"Computing embeddings...\")\n",
    "embeddings = model.encode(lines, show_progress_bar=True)\n",
    "embeddings = embeddings.astype('float32')\n",
    "faiss.normalize_L2(embeddings)"
   ]
  },
  {
   "cell_type": "code",
   "execution_count": 13,
   "id": "657f3ded-c5cf-4004-b0aa-b081b7abb5db",
   "metadata": {},
   "outputs": [
    {
     "name": "stdout",
     "output_type": "stream",
     "text": [
      "Adding embeddings to FAISS index...\n",
      "Index contains 304285 vectors\n"
     ]
    }
   ],
   "source": [
    "dimension = embeddings.shape[1]\n",
    "index = faiss.IndexFlatIP(dimension)\n",
    "print(\"Adding embeddings to FAISS index...\")\n",
    "index.add(embeddings)\n",
    "print(\"Index contains {} vectors\".format(index.ntotal))"
   ]
  },
  {
   "cell_type": "code",
   "execution_count": 15,
   "id": "6f4c2fc7-075e-4251-8f21-2554fead42fe",
   "metadata": {},
   "outputs": [],
   "source": [
    "# We'll search for a few more neighbors than needed (e.g., k = 10) to allow filtering.\n",
    "base_k = 10\n",
    "top_recommendations = {}\n",
    "\n",
    "# Query in batches to save memory.\n",
    "batch_size = 1024\n",
    "for i in range(0, len(embeddings), batch_size):\n",
    "    end = min(i + batch_size, len(embeddings))\n",
    "    D, I = index.search(embeddings[i:end], base_k)\n",
    "    for j in range(end - i):\n",
    "        query_idx = i + j\n",
    "        candidate_indices = I[j].tolist()\n",
    "        # Remove self-match if present.\n",
    "        if candidate_indices and candidate_indices[0] == query_idx:\n",
    "            candidate_indices = candidate_indices[1:]\n",
    "        # Filter out candidates if they come from the same movieID.\n",
    "        filtered = [idx for idx in candidate_indices if movie_ids[idx] != movie_ids[query_idx]]\n",
    "        top_recommendations[query_idx] = filtered[:5]"
   ]
  },
  {
   "cell_type": "code",
   "execution_count": 17,
   "id": "f7cbc73d-eaf8-4b6d-9fe8-2b963de5d440",
   "metadata": {},
   "outputs": [],
   "source": [
    "# ----- Build recommendations DataFrame with movie titles -----\n",
    "recs_data = []\n",
    "for i in range(len(lines)):\n",
    "    source_line = lines[i]\n",
    "    source_movieID = movie_ids[i]\n",
    "    source_movie_title = title_lookup.get(source_movieID, 'Unknown')\n",
    "    recs = []\n",
    "    for rec_idx in top_recommendations[i]:\n",
    "        rec_line = lines[rec_idx]\n",
    "        rec_movieID = movie_ids[rec_idx]\n",
    "        rec_movie_title = title_lookup.get(rec_movieID, 'Unknown')\n",
    "        recs.append({\n",
    "            'recommended_line': rec_line,\n",
    "            'movieID_recommendation': rec_movieID,\n",
    "            'movie_title_recommendation': rec_movie_title\n",
    "        })\n",
    "    recs_data.append({\n",
    "        'movie_line': source_line,\n",
    "        'movieID_source': source_movieID,\n",
    "        'movie_title_source': source_movie_title,\n",
    "        'top_recommendations': recs\n",
    "    })\n",
    "\n",
    "recommendations_df = pd.DataFrame(recs_data)"
   ]
  },
  {
   "cell_type": "code",
   "execution_count": 19,
   "id": "0c2f5407-7de7-4fe1-9f4b-96ef8d489700",
   "metadata": {},
   "outputs": [
    {
     "name": "stdout",
     "output_type": "stream",
     "text": [
      "Sample recommendations:\n",
      "    movie_line movieID_source movie_title_source  \\\n",
      "0  They do to!             m0            Unknown   \n",
      "1   I hope so.             m0            Unknown   \n",
      "2    She okay?             m0            Unknown   \n",
      "3    Let's go.             m0            Unknown   \n",
      "4          Wow             m0            Unknown   \n",
      "\n",
      "                                 top_recommendations  \n",
      "0  [{'recommended_line': 'Do they?', 'movieID_rec...  \n",
      "1  [{'recommended_line': 'I hope so.', 'movieID_r...  \n",
      "2  [{'recommended_line': 'She okay?', 'movieID_re...  \n",
      "3  [{'recommended_line': 'Let's go.', 'movieID_re...  \n",
      "4  [{'recommended_line': 'Wow.', 'movieID_recomme...  \n"
     ]
    }
   ],
   "source": [
    "# Display a sample of the recommendations dataframe\n",
    "print(\"Sample recommendations:\")\n",
    "print(recommendations_df.head())"
   ]
  },
  {
   "cell_type": "code",
   "execution_count": 25,
   "id": "fac0da45-d660-4814-be56-32792f9f202c",
   "metadata": {},
   "outputs": [],
   "source": [
    "# Save recommendations to a CSV file\n",
    "recommendations_df.to_csv('./movie_line_recommendations_3.csv', index=False)"
   ]
  },
  {
   "cell_type": "code",
   "execution_count": null,
   "id": "50fbffc4-0406-4889-a373-48622e093c91",
   "metadata": {},
   "outputs": [],
   "source": []
  }
 ],
 "metadata": {
  "kernelspec": {
   "display_name": "Python 3 (ipykernel)",
   "language": "python",
   "name": "python3"
  },
  "language_info": {
   "codemirror_mode": {
    "name": "ipython",
    "version": 3
   },
   "file_extension": ".py",
   "mimetype": "text/x-python",
   "name": "python",
   "nbconvert_exporter": "python",
   "pygments_lexer": "ipython3",
   "version": "3.12.4"
  }
 },
 "nbformat": 4,
 "nbformat_minor": 5
}
