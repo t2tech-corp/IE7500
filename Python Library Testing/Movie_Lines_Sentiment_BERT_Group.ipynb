{
 "cells": [
  {
   "cell_type": "markdown",
   "id": "8b92225e-7fae-4c23-8fb5-cc231f29e0c9",
   "metadata": {},
   "source": [
    "# Movie Lines - Sentiment Analysis"
   ]
  },
  {
   "cell_type": "markdown",
   "id": "837ea721-7765-40a7-8bc6-092efeaad12f",
   "metadata": {},
   "source": [
    "## Read Movie Lines Dataset"
   ]
  },
  {
   "cell_type": "code",
   "execution_count": 1,
   "id": "c9dd0c45-2690-4eab-b83e-c88c9efdb073",
   "metadata": {},
   "outputs": [
    {
     "name": "stdout",
     "output_type": "stream",
     "text": [
      "  line_id characterID movieID characterName          text\n",
      "0   L1045          u0      m0        BIANCA  They do not!\n",
      "1   L1044          u2      m0       CAMERON   They do to!\n",
      "2    L985          u0      m0        BIANCA    I hope so.\n",
      "3    L984          u2      m0       CAMERON     She okay?\n",
      "4    L925          u0      m0        BIANCA     Let's go.\n"
     ]
    }
   ],
   "source": [
    "import pandas as pd\n",
    "\n",
    "# Define column names\n",
    "column_names = ['line_id', 'characterID', 'movieID', 'characterName', 'text']\n",
    "\n",
    "# Read the file with the provided column names\n",
    "movie_lines = pd.read_csv('data/movie_lines.tsv', sep='\\t', encoding='utf-8', header=None, names=column_names, on_bad_lines='skip')\n",
    "\n",
    "# Print the first few rows to verify\n",
    "print(movie_lines.head())"
   ]
  },
  {
   "cell_type": "markdown",
   "id": "31f849a1-85db-4b2d-a28f-e9778df098f9",
   "metadata": {},
   "source": [
    "## Group Movie Lines by Movie ID\n",
    "\n",
    "To test more informative sentiment analysis, group individual lines by movie."
   ]
  },
  {
   "cell_type": "code",
   "execution_count": 3,
   "id": "00dab964-7b46-41d0-a6f3-1970d83c19bf",
   "metadata": {},
   "outputs": [
    {
     "name": "stdout",
     "output_type": "stream",
     "text": [
      "  movieID                                               text\n",
      "0      m0  They do not! They do to! I hope so. She okay? ...\n",
      "1      m1  Can't be that far I say.  Also I don't like th...\n",
      "2     m10  All the figures show is that Gordon LaRiviere ...\n",
      "3    m100  Sending what we know back to U.S.T. via satell...\n",
      "4    m101  In the backyard. Where? I heard them. Did you ...\n"
     ]
    }
   ],
   "source": [
    "# Fill missing values with an empty string and ensure conversion to string\n",
    "movie_lines['text'] = movie_lines['text'].fillna('').astype(str)\n",
    "\n",
    "# Group and concatenate all the text for each movieID\n",
    "movie_texts = movie_lines.groupby('movieID')['text'].apply(lambda x: ' '.join(x)).reset_index()\n",
    "\n",
    "# Print the first few rows to verify\n",
    "print(movie_texts.head())"
   ]
  },
  {
   "cell_type": "markdown",
   "id": "fa196452-95ce-49c2-a7b8-89015ee88171",
   "metadata": {},
   "source": [
    "# Read Movie Titles to get Genre and merge with Movie Texts"
   ]
  },
  {
   "cell_type": "code",
   "execution_count": 5,
   "id": "06179de2-d238-4983-ae34-14818ad32db5",
   "metadata": {},
   "outputs": [
    {
     "name": "stdout",
     "output_type": "stream",
     "text": [
      "  movieID                                               text  \\\n",
      "0      m0  They do not! They do to! I hope so. She okay? ...   \n",
      "1      m1  Can't be that far I say.  Also I don't like th...   \n",
      "2     m10  All the figures show is that Gordon LaRiviere ...   \n",
      "3    m100  Sending what we know back to U.S.T. via satell...   \n",
      "4    m101  In the backyard. Where? I heard them. Did you ...   \n",
      "\n",
      "                                             genres  \n",
      "0                              ['comedy' 'romance']  \n",
      "1       ['adventure' 'biography' 'drama' 'history']  \n",
      "2                    ['drama' 'mystery' 'thriller']  \n",
      "3  ['action' 'adventure' 'comedy' 'crime' 'sci-fi']  \n",
      "4                  ['biography' 'drama' 'thriller']  \n"
     ]
    }
   ],
   "source": [
    "# Define column names for movie_titles_metadata:\n",
    "metadata_columns = ['movieID', 'title', 'year', 'rating', 'votes', 'genres']\n",
    "\n",
    "# Load the file with these column names. Adjust if there's already a header in file.\n",
    "movie_titles_metadata = pd.read_csv('data/movie_titles_metadata.tsv', sep='\\t', encoding='utf-8', header=None, names=metadata_columns, on_bad_lines='skip')\n",
    "\n",
    "# Merge movie_texts and movie_titles_metadata on 'movieID'\n",
    "merged_df = pd.merge(movie_texts, movie_titles_metadata[['movieID', 'genres']], on='movieID', how='inner')\n",
    "\n",
    "# Show the first few rows of the merged dataframe\n",
    "print(merged_df.head())"
   ]
  },
  {
   "cell_type": "markdown",
   "id": "b9fb32a8-6211-4bd1-8ea9-2d4672cdb32b",
   "metadata": {},
   "source": [
    "## Sentiment Analysis Using BERT"
   ]
  },
  {
   "cell_type": "code",
   "execution_count": 7,
   "id": "3b94adaa-f8a6-446b-bdb6-87c60228bf2c",
   "metadata": {},
   "outputs": [],
   "source": [
    "import numpy as np\n",
    "from transformers import AutoTokenizer\n",
    "from datasets import Dataset\n",
    "import re"
   ]
  },
  {
   "cell_type": "markdown",
   "id": "ce862812-f16d-4820-a21b-efa5c99c202a",
   "metadata": {},
   "source": [
    "### Step 1"
   ]
  },
  {
   "cell_type": "code",
   "execution_count": 9,
   "id": "dd3226b1-0ba2-4600-93c2-62d43ff3df36",
   "metadata": {},
   "outputs": [
    {
     "name": "stdout",
     "output_type": "stream",
     "text": [
      "Unique genres: ['comedy' 'adventure' 'drama' 'action' 'biography' 'crime' 'mystery'\n",
      " 'fantasy' None 'animation' 'short' 'family' 'horror' 'thriller' 'sci'\n",
      " 'romance' 'documentary' 'film']\n",
      "Genre to ID mapping: {'action': 0, 'adventure': 1, 'animation': 2, 'biography': 3, 'comedy': 4, 'crime': 5, 'documentary': 6, 'drama': 7, 'family': 8, 'fantasy': 9, 'film': 10, 'horror': 11, 'mystery': 12, 'romance': 13, 'sci': 14, 'short': 15, 'thriller': 16}\n",
      "Rows after dropping missing genres: 605\n"
     ]
    },
    {
     "name": "stderr",
     "output_type": "stream",
     "text": [
      "C:\\Users\\tterr\\AppData\\Local\\Temp\\ipykernel_28948\\592367546.py:30: SettingWithCopyWarning: \n",
      "A value is trying to be set on a copy of a slice from a DataFrame.\n",
      "Try using .loc[row_indexer,col_indexer] = value instead\n",
      "\n",
      "See the caveats in the documentation: https://pandas.pydata.org/pandas-docs/stable/user_guide/indexing.html#returning-a-view-versus-a-copy\n",
      "  clean_df['label'] = clean_df['primary_genre'].map(genre_to_id).astype(int)\n"
     ]
    }
   ],
   "source": [
    "# Step 1: Extract primary genre from the genres field\n",
    "def extract_primary_genre(genres_str):\n",
    "    if pd.isna(genres_str):\n",
    "        return None\n",
    "    # Use regex to extract all words (ignoring punctuation)\n",
    "    genres = re.findall(r\"[A-Za-z]+\", genres_str)\n",
    "    if genres:\n",
    "       return genres[0].lower()\n",
    "    return None\n",
    "    \n",
    "# Apply extraction to create a new column\n",
    "merged_df['primary_genre'] = merged_df['genres'].apply(extract_primary_genre)\n",
    "\n",
    "# Check unique genres\n",
    "unique_genres = merged_df['primary_genre'].unique()\n",
    "print('Unique genres:', unique_genres)\n",
    "\n",
    "# Filter genres\n",
    "filtered_genres = [genre for genre in unique_genres if genre is not None]\n",
    "\n",
    "# Create a mapping from genre to integer label\n",
    "genre_to_id = {genre: idx for idx, genre in enumerate(sorted(filtered_genres))}\n",
    "print('Genre to ID mapping:', genre_to_id)\n",
    "\n",
    "# Drop rows where primary_genre is None (or )\n",
    "clean_df = merged_df.dropna(subset=['primary_genre'])\n",
    "print(\"Rows after dropping missing genres:\", len(clean_df))\n",
    "\n",
    "# Map genres to labels and cast to integers\n",
    "clean_df['label'] = clean_df['primary_genre'].map(genre_to_id).astype(int)"
   ]
  },
  {
   "cell_type": "markdown",
   "id": "634332ff-df89-48ee-9f53-a2fbc3b53b8c",
   "metadata": {},
   "source": [
    "### Step 2"
   ]
  },
  {
   "cell_type": "code",
   "execution_count": 11,
   "id": "743058c0-0925-4d26-b00d-05553d92697c",
   "metadata": {},
   "outputs": [
    {
     "name": "stdout",
     "output_type": "stream",
     "text": [
      "Hugging Face dataset created with cleaned data.\n"
     ]
    }
   ],
   "source": [
    "# Step 2: Convert merged_df to Hugging Face Dataset (only keep 'text' and 'label')\n",
    "hf_dataset = Dataset.from_pandas(clean_df[['text', 'label']])\n",
    "print(\"Hugging Face dataset created with cleaned data.\")"
   ]
  },
  {
   "cell_type": "markdown",
   "id": "7eb9bdf0-3f26-452b-98fe-7b3d1f74f08b",
   "metadata": {},
   "source": [
    "### Step 3"
   ]
  },
  {
   "cell_type": "code",
   "execution_count": 13,
   "id": "a0500e4c-ba3f-40cc-a905-421db2ce0ae5",
   "metadata": {},
   "outputs": [
    {
     "data": {
      "application/vnd.jupyter.widget-view+json": {
       "model_id": "2e53939b961d4022a30a9a52b6d5250e",
       "version_major": 2,
       "version_minor": 0
      },
      "text/plain": [
       "Map:   0%|          | 0/605 [00:00<?, ? examples/s]"
      ]
     },
     "metadata": {},
     "output_type": "display_data"
    },
    {
     "name": "stdout",
     "output_type": "stream",
     "text": [
      "Dataset tokenization complete\n"
     ]
    }
   ],
   "source": [
    "# Step 3: Tokenize the text column using BERT tokenizer\n",
    "model_name = 'bert-base-uncased'\n",
    "tokenizer = AutoTokenizer.from_pretrained(model_name)\n",
    "\n",
    "def tokenize_function(examples):\n",
    "    return tokenizer(examples['text'], padding='max_length', truncation=True, max_length=256)\n",
    "\n",
    "# Tokenize the dataset\n",
    "tokenized_dataset = hf_dataset.map(tokenize_function, batched=True)\n",
    "print('Dataset tokenization complete')"
   ]
  },
  {
   "cell_type": "markdown",
   "id": "467a18bc-13c5-4452-a688-b6bd5b316fd9",
   "metadata": {},
   "source": [
    "### Step 4"
   ]
  },
  {
   "cell_type": "code",
   "execution_count": 15,
   "id": "12868d42-4899-413f-9d07-2ae1424c0151",
   "metadata": {},
   "outputs": [
    {
     "name": "stdout",
     "output_type": "stream",
     "text": [
      "Training dataset size: 484\n",
      "Validation dataset size: 121\n"
     ]
    }
   ],
   "source": [
    "# Step 4: Split the dataset into training and validation sets (80-20 split)\n",
    "split_dataset = tokenized_dataset.train_test_split(test_size=0.2)\n",
    "train_dataset = split_dataset['train']\n",
    "eval_dataset = split_dataset['test']\n",
    "\n",
    "print('Training dataset size:', len(train_dataset))\n",
    "print('Validation dataset size:', len(eval_dataset))"
   ]
  },
  {
   "cell_type": "markdown",
   "id": "62725fe7-7a9f-4718-8fbe-0684fcc0f307",
   "metadata": {},
   "source": [
    "### Step 5"
   ]
  },
  {
   "cell_type": "code",
   "execution_count": 17,
   "id": "f6025321-95aa-4e1f-8a97-434a728345c8",
   "metadata": {},
   "outputs": [
    {
     "name": "stdout",
     "output_type": "stream",
     "text": [
      "WARNING:tensorflow:From C:\\Users\\tterr\\anaconda3\\Lib\\site-packages\\tf_keras\\src\\losses.py:2976: The name tf.losses.sparse_softmax_cross_entropy is deprecated. Please use tf.compat.v1.losses.sparse_softmax_cross_entropy instead.\n",
      "\n"
     ]
    },
    {
     "name": "stderr",
     "output_type": "stream",
     "text": [
      "Some weights of BertForSequenceClassification were not initialized from the model checkpoint at bert-base-uncased and are newly initialized: ['classifier.bias', 'classifier.weight']\n",
      "You should probably TRAIN this model on a down-stream task to be able to use it for predictions and inference.\n",
      "C:\\Users\\tterr\\anaconda3\\Lib\\site-packages\\transformers\\training_args.py:1575: FutureWarning: `evaluation_strategy` is deprecated and will be removed in version 4.46 of 🤗 Transformers. Use `eval_strategy` instead\n",
      "  warnings.warn(\n",
      "C:\\Users\\tterr\\AppData\\Local\\Temp\\ipykernel_28948\\108676329.py:24: FutureWarning: `tokenizer` is deprecated and will be removed in version 5.0.0 for `Trainer.__init__`. Use `processing_class` instead.\n",
      "  trainer = Trainer(\n"
     ]
    },
    {
     "name": "stdout",
     "output_type": "stream",
     "text": [
      "BERT model loaded for classification with 17 labels.\n",
      "Trainer set up successfully.\n"
     ]
    },
    {
     "data": {
      "text/html": [
       "\n",
       "    <div>\n",
       "      \n",
       "      <progress value='183' max='183' style='width:300px; height:20px; vertical-align: middle;'></progress>\n",
       "      [183/183 00:41, Epoch 3/3]\n",
       "    </div>\n",
       "    <table border=\"1\" class=\"dataframe\">\n",
       "  <thead>\n",
       " <tr style=\"text-align: left;\">\n",
       "      <th>Epoch</th>\n",
       "      <th>Training Loss</th>\n",
       "      <th>Validation Loss</th>\n",
       "    </tr>\n",
       "  </thead>\n",
       "  <tbody>\n",
       "    <tr>\n",
       "      <td>1</td>\n",
       "      <td>2.074600</td>\n",
       "      <td>2.092741</td>\n",
       "    </tr>\n",
       "    <tr>\n",
       "      <td>2</td>\n",
       "      <td>2.047600</td>\n",
       "      <td>1.967366</td>\n",
       "    </tr>\n",
       "    <tr>\n",
       "      <td>3</td>\n",
       "      <td>1.946300</td>\n",
       "      <td>1.932575</td>\n",
       "    </tr>\n",
       "  </tbody>\n",
       "</table><p>"
      ],
      "text/plain": [
       "<IPython.core.display.HTML object>"
      ]
     },
     "metadata": {},
     "output_type": "display_data"
    },
    {
     "name": "stdout",
     "output_type": "stream",
     "text": [
      "Training completed!\n"
     ]
    }
   ],
   "source": [
    "from transformers import AutoModelForSequenceClassification, TrainingArguments, Trainer\n",
    "\n",
    "# Determine number of labels from the mapping (exclude None since it's not used)\n",
    "num_labels = len(genre_to_id)\n",
    "\n",
    "# Load pre-trained BERT model for sequence classification\n",
    "model = AutoModelForSequenceClassification.from_pretrained(model_name, num_labels=num_labels)\n",
    "print(\"BERT model loaded for classification with\", num_labels, \"labels.\")\n",
    "\n",
    "# Define training arguments for the Trainer\n",
    "training_args = TrainingArguments(\n",
    "    output_dir=\"./results\",            # output directory for model predictions and checkpoints\n",
    "    num_train_epochs=3,                # total number of training epochs\n",
    "    per_device_train_batch_size=8,     # batch size per device during training\n",
    "    per_device_eval_batch_size=8,      # batch size for evaluation\n",
    "    evaluation_strategy=\"epoch\",       # evaluation strategy to adopt during training\n",
    "    save_strategy=\"epoch\",             # save model every epoch\n",
    "    logging_dir=\"./logs\",              # directory for storing logs\n",
    "    load_best_model_at_end=True,       # load the best model at the end of training\n",
    "    logging_steps=10,\n",
    ")\n",
    "\n",
    "# Create a Trainer instance\n",
    "trainer = Trainer(\n",
    "    model=model,                         # the instantiated Transformers model to be trained\n",
    "    args=training_args,                  # training arguments\n",
    "    train_dataset=train_dataset,         # training dataset\n",
    "    eval_dataset=eval_dataset,           # evaluation dataset\n",
    "    tokenizer=tokenizer,                 # tokenizer used for encoding the data\n",
    ")\n",
    "\n",
    "print(\"Trainer set up successfully.\")\n",
    "\n",
    "# Start training the model\n",
    "trainer.train()\n",
    "print(\"Training completed!\")"
   ]
  },
  {
   "cell_type": "markdown",
   "id": "cae41bc4-bff1-4da3-9756-9f5b256ad707",
   "metadata": {},
   "source": [
    "# Evaluation Results"
   ]
  },
  {
   "cell_type": "code",
   "execution_count": 19,
   "id": "701efc8b-41af-455f-8052-48636c3ce4e5",
   "metadata": {},
   "outputs": [
    {
     "data": {
      "text/html": [],
      "text/plain": [
       "<IPython.core.display.HTML object>"
      ]
     },
     "metadata": {},
     "output_type": "display_data"
    },
    {
     "name": "stdout",
     "output_type": "stream",
     "text": [
      "Evaluation Results:\n",
      "{'eval_loss': 1.93257474899292, 'eval_runtime': 1.1197, 'eval_samples_per_second': 108.068, 'eval_steps_per_second': 14.29, 'epoch': 3.0}\n"
     ]
    }
   ],
   "source": [
    "# 1. Evaluate the model on the validation set\n",
    "eval_results = trainer.evaluate(eval_dataset)\n",
    "print(\"Evaluation Results:\")\n",
    "print(eval_results)"
   ]
  },
  {
   "cell_type": "code",
   "execution_count": 21,
   "id": "17344378-be50-4d06-9fea-395fc9f74ac6",
   "metadata": {},
   "outputs": [
    {
     "name": "stdout",
     "output_type": "stream",
     "text": [
      "Sample predicted labels: [0 0 7 4 4 7 4 0 4 7]\n",
      "True labels for first 10 examples: [5, 11, 7, 7, 4, 7, 7, 0, 4, 7]\n"
     ]
    }
   ],
   "source": [
    "# 2. Run predictions on the evaluation set (or a subset) to inspect model predictions\n",
    "predictions_output = trainer.predict(eval_dataset)\n",
    "\n",
    "# The predictions are raw logits; convert them to predicted labels by taking argmax over logits.\n",
    "predicted_labels = np.argmax(predictions_output.predictions, axis=1)\n",
    "\n",
    "print(\"Sample predicted labels:\", predicted_labels[:10])\n",
    "print(\"True labels for first 10 examples:\", eval_dataset['label'][:10])"
   ]
  },
  {
   "cell_type": "markdown",
   "id": "040161cd-55c3-4c54-a891-e455dc55356c",
   "metadata": {},
   "source": [
    "## Visualize Results"
   ]
  },
  {
   "cell_type": "code",
   "execution_count": 23,
   "id": "a6e648ed-8b0b-4fa8-997b-9f17b6a36581",
   "metadata": {},
   "outputs": [
    {
     "data": {
      "text/html": [],
      "text/plain": [
       "<IPython.core.display.HTML object>"
      ]
     },
     "metadata": {},
     "output_type": "display_data"
    },
    {
     "name": "stdout",
     "output_type": "stream",
     "text": [
      "Confusion Matrix:\n",
      " [[25  0  0  0  4  0  0  5  0  0  0  0  0]\n",
      " [ 4  0  0  0  0  0  0  2  0  0  0  0  0]\n",
      " [ 1  0  0  0  0  0  0  0  0  0  0  0  0]\n",
      " [ 0  0  0  0  3  0  0  4  0  0  0  0  0]\n",
      " [ 2  0  0  0 13  0  0  6  0  0  0  0  0]\n",
      " [ 5  0  0  0  3  0  0  5  0  0  0  0  0]\n",
      " [ 1  0  0  0  0  0  0  0  0  0  0  0  0]\n",
      " [ 7  0  0  0  8  0  0  8  0  0  0  0  0]\n",
      " [ 2  0  0  0  0  0  0  1  0  0  0  0  0]\n",
      " [ 5  0  0  0  2  0  0  2  0  0  0  0  0]\n",
      " [ 1  0  0  0  0  0  0  0  0  0  0  0  0]\n",
      " [ 1  0  0  0  0  0  0  0  0  0  0  0  0]\n",
      " [ 1  0  0  0  0  0  0  0  0  0  0  0  0]]\n"
     ]
    },
    {
     "data": {
      "image/png": "[encoded data removed]",
      "text/plain": [
       "<Figure size 800x600 with 2 Axes>"
      ]
     },
     "metadata": {},
     "output_type": "display_data"
    },
    {
     "name": "stdout",
     "output_type": "stream",
     "text": [
      "Classification Report:\n",
      "              precision    recall  f1-score   support\n",
      "\n",
      "      action       0.45      0.74      0.56        34\n",
      "   adventure       0.00      0.00      0.00         6\n",
      "   animation       0.00      0.00      0.00         1\n",
      "   biography       0.00      0.00      0.00         7\n",
      "      comedy       0.39      0.62      0.48        21\n",
      "       crime       0.00      0.00      0.00        13\n",
      " documentary       0.00      0.00      0.00         1\n",
      "       drama       0.24      0.35      0.29        23\n",
      "     fantasy       0.00      0.00      0.00         3\n",
      "      horror       0.00      0.00      0.00         9\n",
      "     mystery       0.00      0.00      0.00         1\n",
      "       short       0.00      0.00      0.00         1\n",
      "    thriller       0.00      0.00      0.00         1\n",
      "\n",
      "    accuracy                           0.38       121\n",
      "   macro avg       0.08      0.13      0.10       121\n",
      "weighted avg       0.24      0.38      0.30       121\n",
      "\n"
     ]
    },
    {
     "name": "stderr",
     "output_type": "stream",
     "text": [
      "C:\\Users\\tterr\\anaconda3\\Lib\\site-packages\\sklearn\\metrics\\_classification.py:1509: UndefinedMetricWarning: Precision is ill-defined and being set to 0.0 in labels with no predicted samples. Use `zero_division` parameter to control this behavior.\n",
      "  _warn_prf(average, modifier, f\"{metric.capitalize()} is\", len(result))\n",
      "C:\\Users\\tterr\\anaconda3\\Lib\\site-packages\\sklearn\\metrics\\_classification.py:1509: UndefinedMetricWarning: Precision is ill-defined and being set to 0.0 in labels with no predicted samples. Use `zero_division` parameter to control this behavior.\n",
      "  _warn_prf(average, modifier, f\"{metric.capitalize()} is\", len(result))\n",
      "C:\\Users\\tterr\\anaconda3\\Lib\\site-packages\\sklearn\\metrics\\_classification.py:1509: UndefinedMetricWarning: Precision is ill-defined and being set to 0.0 in labels with no predicted samples. Use `zero_division` parameter to control this behavior.\n",
      "  _warn_prf(average, modifier, f\"{metric.capitalize()} is\", len(result))\n"
     ]
    }
   ],
   "source": [
    "import matplotlib.pyplot as plt\n",
    "import seaborn as sns\n",
    "from sklearn.metrics import confusion_matrix, classification_report\n",
    "\n",
    "# Get true labels from the evaluation dataset\n",
    "true_labels = np.array(eval_dataset['label'])\n",
    "\n",
    "# Get raw predictions and convert to predicted labels\n",
    "predictions_output = trainer.predict(eval_dataset)\n",
    "predicted_labels = np.argmax(predictions_output.predictions, axis=1)\n",
    "\n",
    "# Create a reverse mapping from label id to genre\n",
    "id_to_genre = {v: k for k, v in genre_to_id.items()}\n",
    "\n",
    "# Get the unique labels present in the eval set (sorted by label id)\n",
    "unique_ids = sorted(np.unique(true_labels))\n",
    "target_names = [id_to_genre[i] for i in unique_ids]\n",
    "\n",
    "# Compute the confusion matrix specifying only the labels present in eval\n",
    "cm = confusion_matrix(true_labels, predicted_labels, labels=unique_ids)\n",
    "print(\"Confusion Matrix:\\n\", cm)\n",
    "\n",
    "# Plot the confusion matrix with Seaborn heatmap\n",
    "plt.figure(figsize=(8, 6))\n",
    "sns.heatmap(cm, annot=True, fmt='d', cmap='Blues', \n",
    "            xticklabels=target_names, yticklabels=target_names)\n",
    "plt.xlabel('Predicted Label')\n",
    "plt.ylabel('True Label')\n",
    "plt.title('Confusion Matrix')\n",
    "plt.show()\n",
    "\n",
    "# Generate and print a classification report\n",
    "print(\"Classification Report:\")\n",
    "print(classification_report(true_labels, predicted_labels, labels=unique_ids, target_names=target_names))"
   ]
  },
  {
   "cell_type": "code",
   "execution_count": null,
   "id": "ba35b4fc-b955-4228-a2ab-522749f812be",
   "metadata": {},
   "outputs": [],
   "source": []
  }
 ],
 "metadata": {
  "kernelspec": {
   "display_name": "Python 3 (ipykernel)",
   "language": "python",
   "name": "python3"
  },
  "language_info": {
   "codemirror_mode": {
    "name": "ipython",
    "version": 3
   },
   "file_extension": ".py",
   "mimetype": "text/x-python",
   "name": "python",
   "nbconvert_exporter": "python",
   "pygments_lexer": "ipython3",
   "version": "3.12.4"
  }
 },
 "nbformat": 4,
 "nbformat_minor": 5
}
