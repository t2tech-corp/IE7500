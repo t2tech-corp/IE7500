{
 "cells": [
  {
   "cell_type": "markdown",
   "id": "e75e3c2a-b39f-4b46-ab5a-6532a8e7e755",
   "metadata": {},
   "source": [
    "Movie Lines"
   ]
  },
  {
   "cell_type": "code",
   "execution_count": 28,
   "id": "d1812921-fd55-40df-ac05-9791788cf103",
   "metadata": {},
   "outputs": [
    {
     "name": "stdout",
     "output_type": "stream",
     "text": [
      "  line_id characterID movieID characterName          text\n",
      "0   L1045          u0      m0        BIANCA  They do not!\n",
      "1   L1044          u2      m0       CAMERON   They do to!\n",
      "2    L985          u0      m0        BIANCA    I hope so.\n",
      "3    L984          u2      m0       CAMERON     She okay?\n",
      "4    L925          u0      m0        BIANCA     Let's go.\n",
      "(293202, 5)\n"
     ]
    }
   ],
   "source": [
    "import pandas as pd\n",
    "\n",
    "# Define column names\n",
    "column_names = ['line_id', 'characterID', 'movieID', 'characterName', 'text']\n",
    "\n",
    "# Read the file with the provided column names\n",
    "movie_lines = pd.read_csv('data/movie_lines.tsv', sep='\\t', encoding='utf-8', header=None, names=column_names, on_bad_lines='skip')\n",
    "\n",
    "# Print the first few rows to verify\n",
    "print(movie_lines.head())\n",
    "\n",
    "print(movie_lines.shape)"
   ]
  },
  {
   "cell_type": "markdown",
   "id": "e2052942-e228-4ece-b7eb-cd9fad0902f1",
   "metadata": {},
   "source": [
    "Movie Conversations"
   ]
  },
  {
   "cell_type": "code",
   "execution_count": 30,
   "id": "8f3ed029-71db-41da-875e-e9ede7fa4f22",
   "metadata": {},
   "outputs": [
    {
     "name": "stdout",
     "output_type": "stream",
     "text": [
      "  characterID_1 characterID_2 movieID                        lineIDs\n",
      "0            u0            u2      m0  ['L194' 'L195' 'L196' 'L197']\n",
      "1            u0            u2      m0                ['L198' 'L199']\n",
      "2            u0            u2      m0  ['L200' 'L201' 'L202' 'L203']\n",
      "3            u0            u2      m0         ['L204' 'L205' 'L206']\n",
      "4            u0            u2      m0                ['L207' 'L208']\n",
      "(83097, 4)\n"
     ]
    }
   ],
   "source": [
    "# Define column names\n",
    "column_names = ['characterID_1', 'characterID_2', 'movieID', 'lineIDs']\n",
    "\n",
    "# Read the file with the provided column names\n",
    "movie_conversations = pd.read_csv('data/movie_conversations.tsv', sep='\\t', encoding='utf-8', header=None, names=column_names, on_bad_lines='skip')\n",
    "\n",
    "# Print the first few rows to verify\n",
    "print(movie_conversations.head())\n",
    "\n",
    "print(movie_conversations.shape)"
   ]
  },
  {
   "cell_type": "markdown",
   "id": "50510d92-eb83-4b29-9b12-9ca8bc81fcba",
   "metadata": {},
   "source": [
    "Movie Characters"
   ]
  },
  {
   "cell_type": "code",
   "execution_count": 32,
   "id": "29491b66-d342-4aec-a1bc-c0854a0c2696",
   "metadata": {},
   "outputs": [
    {
     "name": "stdout",
     "output_type": "stream",
     "text": [
      "  characterID characterName movieID                  movieTitle gender  \\\n",
      "0          u0        BIANCA      m0  10 things i hate about you      f   \n",
      "1          u1         BRUCE      m0  10 things i hate about you      ?   \n",
      "2          u2       CAMERON      m0  10 things i hate about you      m   \n",
      "3          u3      CHASTITY      m0  10 things i hate about you      ?   \n",
      "4          u4          JOEY      m0  10 things i hate about you      m   \n",
      "\n",
      "  creditsPos  \n",
      "0          4  \n",
      "1          ?  \n",
      "2          3  \n",
      "3          ?  \n",
      "4          6  \n",
      "(9034, 6)\n"
     ]
    }
   ],
   "source": [
    "# Define column names for movie_characters_metadata\n",
    "column_names_char = ['characterID', 'characterName', 'movieID', 'movieTitle', 'gender', 'creditsPos']\n",
    "\n",
    "# Read the file with the provided column names\n",
    "movie_characters = pd.read_csv('data/movie_characters_metadata.tsv', sep='\\t', encoding='utf-8', header=None, names=column_names_char, on_bad_lines='skip')\n",
    "\n",
    "# Print the first few rows to verify\n",
    "print(movie_characters.head())\n",
    "\n",
    "print(movie_characters.shape)"
   ]
  },
  {
   "cell_type": "markdown",
   "id": "b6e33791-7c28-45fe-a06e-9b2f6b1b80e8",
   "metadata": {},
   "source": [
    "Movie Titles"
   ]
  },
  {
   "cell_type": "code",
   "execution_count": 34,
   "id": "0f2d8b80-bf40-4a97-9116-a245f3b3f363",
   "metadata": {},
   "outputs": [
    {
     "name": "stdout",
     "output_type": "stream",
     "text": [
      "  movieID                  movieTitle movieYear  IMDBRating  IMBDVotes  \\\n",
      "0      m0  10 things i hate about you      1999         6.9    62847.0   \n",
      "1      m1  1492: conquest of paradise      1992         6.2    10421.0   \n",
      "2      m2                  15 minutes      2001         6.1    25854.0   \n",
      "3      m3       2001: a space odyssey      1968         8.4   163227.0   \n",
      "4      m4                     48 hrs.      1982         6.9    22289.0   \n",
      "\n",
      "                                           genres  \n",
      "0                            ['comedy' 'romance']  \n",
      "1     ['adventure' 'biography' 'drama' 'history']  \n",
      "2           ['action' 'crime' 'drama' 'thriller']  \n",
      "3                ['adventure' 'mystery' 'sci-fi']  \n",
      "4  ['action' 'comedy' 'crime' 'drama' 'thriller']  \n",
      "(617, 6)\n"
     ]
    }
   ],
   "source": [
    "# Define column names for movie_titles_metadata\n",
    "column_names_titles = ['movieID', 'movieTitle', 'movieYear', 'IMDBRating', 'IMBDVotes', 'genres']\n",
    "\n",
    "# Read the file with the provided column names\n",
    "movie_titles = pd.read_csv('data/movie_titles_metadata.tsv', sep='\\t', encoding='utf-8', header=None, names=column_names_titles, on_bad_lines='skip')\n",
    "\n",
    "# Print the first few rows to verify\n",
    "print(movie_titles.head())\n",
    "\n",
    "print(movie_titles.shape)"
   ]
  },
  {
   "cell_type": "code",
   "execution_count": null,
   "id": "38aa9cc0-5a57-4253-a94d-2b93b305f6c5",
   "metadata": {},
   "outputs": [],
   "source": []
  }
 ],
 "metadata": {
  "kernelspec": {
   "display_name": "Python 3 (ipykernel)",
   "language": "python",
   "name": "python3"
  },
  "language_info": {
   "codemirror_mode": {
    "name": "ipython",
    "version": 3
   },
   "file_extension": ".py",
   "mimetype": "text/x-python",
   "name": "python",
   "nbconvert_exporter": "python",
   "pygments_lexer": "ipython3",
   "version": "3.12.4"
  }
 },
 "nbformat": 4,
 "nbformat_minor": 5
}
